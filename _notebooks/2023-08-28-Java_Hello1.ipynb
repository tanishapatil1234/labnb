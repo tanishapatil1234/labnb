{
 "cells": [
  {
   "cell_type": "markdown",
   "id": "2c137d37",
   "metadata": {},
   "source": [
    "---\n",
    "comments: true\n",
    "layout: post\n",
<<<<<<< HEAD
    "title: Java Hacks W1\n",
=======
    "title: Java Hello\n",
>>>>>>> b43a62ce1444648b81fc0566943de6bb842fdac1
    "description: First attempts at Java, using\n",
    "type: hacks\n",
    "---"
   ]
  },
  {
<<<<<<< HEAD
   "cell_type": "markdown",
   "id": "77d99984",
   "metadata": {},
   "source": [
    "## Hack 0: College Board Units\n",
    "> look for comments throughout code for units\n",
    "\n",
    "Answer why you think this reorganization and AP indetification is important?\n",
    "> Reorganization and AP identifiction is important so the code can be as concise and efficient as possible. Also, AP identification can be useful to learn foundational skills as well as define concepts that will be shown to us on the AP exam. "
   ]
  },
  {
   "cell_type": "markdown",
   "id": "57578872",
   "metadata": {},
   "source": [
    "|      Units      |  Definition |\n",
    "|:---------------:|:--------:|\n",
    "| Primitive Types | data types in java: char, int, float, double, etc  |\n",
    "| Objects         | instance of a java class  |\n",
    "| Boolean         | primtive, t/f  |\n",
    "| Iteration       | repetition |\n",
    "| Writing Classes | blueprint to create objects, define methods, instance variables  |\n",
    "| Array           | store multiple variables   |\n",
    "| ArrayList       | resiable array, elements can be added/removed  |\n",
    "| 2D Array        | multidimensional array, this table |\n",
    "| Inheritance     | one class acquires the behavior of a parent class   |\n",
    "| Recursion       | making the function call itself  |"
   ]
  },
  {
   "cell_type": "markdown",
   "id": "aab1091c",
   "metadata": {},
   "source": [
    "## Hack 1: Anatomy of a Class diagram\n",
    "![Anatomy of a Class](/images/class.png)\n"
   ]
  },
  {
   "cell_type": "code",
   "execution_count": 73,
=======
   "cell_type": "code",
   "execution_count": 1,
>>>>>>> b43a62ce1444648b81fc0566943de6bb842fdac1
   "id": "b4ed4e42-c211-43d8-a073-bcea14c50fac",
   "metadata": {
    "vscode": {
     "languageId": "java"
    }
   },
   "outputs": [
    {
     "name": "stdout",
     "output_type": "stream",
     "text": [
      "Hello World!\n"
     ]
    }
   ],
   "source": [
    "// Define Static Method within a Class\n",
    "public class HelloStatic {\n",
    "    // Java standard runtime entry point\n",
    "    public static void main(String[] args) {    \n",
    "        System.out.println(\"Hello World!\");\n",
    "    }\n",
    "}\n",
    "// A method call allows us to execute code that is wrapped in Class\n",
    "HelloStatic.main(null);   // Class prefix allows reference of Static Method"
   ]
  },
  {
   "cell_type": "markdown",
<<<<<<< HEAD
   "id": "73b98e65",
   "metadata": {},
   "source": [
    "## Hack 2: Build purposeful dynamic Class, with an Object, and generate an Instance of the class\n",
    "> Also included comments for definition of class, instance of class, constructors (and their signature), calling object method with parameter (setters)"
=======
   "id": "99b1c7cd",
   "metadata": {},
   "source": [
    "![Anatomy of a Class](/images/class.png)\n"
>>>>>>> b43a62ce1444648b81fc0566943de6bb842fdac1
   ]
  },
  {
   "cell_type": "code",
<<<<<<< HEAD
   "execution_count": 47,
=======
   "execution_count": 19,
>>>>>>> b43a62ce1444648b81fc0566943de6bb842fdac1
   "id": "219e6e1c",
   "metadata": {
    "vscode": {
     "languageId": "java"
    }
   },
   "outputs": [],
   "source": [
<<<<<<< HEAD
    "// class Item \n",
    "public class Item { //*writing classes*/\n",
    "    // instance variables\n",
    "  //  static Sting company; -> example of static instance\n",
    "    private String name; // *primitive type*\n",
    "    private double price;\n",
    "\n",
    "\n",
    "    // constructor (allows setting initial values), 2 arguments\n",
    "    // constructor signature: public \n",
    "    public Item(String name, double price) {\n",
    "        this.name = name;\n",
    "        this.price = price;\n",
    "        this.company = \"Best Buy\"; \n",
    "    }\n",
    "\n",
    "    // getters\n",
    "    public String getName() { \n",
    "        return name;\n",
    "    }\n",
    "\n",
    "    public double getPrice() {\n",
    "        return price;\n",
    "    }\n",
    "\n",
    "    // setters\n",
    "    public void setPrice(double price) {\n",
    "        this.price = price;\n",
    "    }\n",
    "\n",
    "    // Override toString method\n",
    "    // Before the output was in the format \"class @ hash code\", the lines below fix to string formatting \n",
    "    @Override\n",
    "    public String toString() {\n",
    "        return name + \": $\" + price;\n",
    "    }\n",
    "\n",
    "\n",
    "    public static void main(String[] args) {\n",
    "        Item item1 = new Item(\"Laptop\", 1238.92); //*objects*/\n",
    "        Item item2 = new Item(\"Iphone\", 938.92);\n",
    "\n",
    "        System.out.println(\"Initial Information:\");\n",
    "        System.out.println(item1);\n",
    "        System.out.println(item2);\n",
    "        \n",
    "        // calling a setter with parameters \n",
    "        item1.setPrice(899.99);\n",
    "        item2.setPrice(599.99);\n",
    "\n",
    "        System.out.println(\"\\nUpdated Information:\");\n",
    "        System.out.println(item1);\n",
    "        System.out.println(item2);\n",
    "    }\n",
    "}\n"
   ]
  },
  {
   "cell_type": "code",
   "execution_count": 45,
   "id": "cd6d81ed",
   "metadata": {
    "vscode": {
     "languageId": "java"
    }
   },
   "outputs": [
    {
     "name": "stdout",
     "output_type": "stream",
     "text": [
      "Initial Information:\n",
      "Iphone: $1238.92\n",
      "Iphone: $938.92\n",
      "\n",
      "Updated Information:\n",
      "Iphone: $899.99\n",
      "Iphone: $599.99\n"
     ]
    }
   ],
   "source": [
    "Inventory.main(null)"
=======
    "// Defining class Item\n",
    "public static class Item {\n",
    "    // instance variables\n",
    "    private String name; \n",
    "    private double price; // double is for floats\n",
    "    // constructor (allows to set initial values), 2 arguements\n",
    "    public Item(String name, double price) {\n",
    "        this.name = name; \n",
    "        this.price = price;\n",
    "    }\n",
    "\n",
    "    // get\n",
    "    public String getName() {\n",
    "        return name; \n",
    "    }\n",
    "\n",
    "    public double getPrice() {\n",
    "        return price; \n",
    "    }\n",
    "\n",
    "    // set\n",
    "    public void setPrice(double price) {\n",
    "        this.price = price; \n",
    "    }\n",
    "    public static void main(String[] args) {\n",
    "        // called to display information about an item in a user friendly format \n",
    "        \n",
    "    }\n",
    "}\n",
    "\n",
    "public class Inventory {\n",
    "    public static void main(String[] args) {\n",
    "        Item item1 = new Item(\"Laptop\", 1238.92); \n",
    "        Item item2 = new Item(\"Iphone\", 938.92); \n",
    "   \n",
    "        System.out.println(\"Initial Information:\");\n",
    "        System.out.println(item1);\n",
    "        System.out.println(item2);\n",
    "\n",
    "        item1.setPrice(899.99);\n",
    "        item2.setPrice(599.99);\n",
    "\n",
    "        \n",
    "        System.out.println(\"\\nUpdated Information:\");\n",
    "        System.out.println(item1);\n",
    "        System.out.println(item2);\n",
    "    } \n",
    "}"
>>>>>>> b43a62ce1444648b81fc0566943de6bb842fdac1
   ]
  },
  {
   "cell_type": "code",
<<<<<<< HEAD
   "execution_count": 26,
=======
   "execution_count": 22,
>>>>>>> b43a62ce1444648b81fc0566943de6bb842fdac1
   "id": "0b5ccb8c",
   "metadata": {
    "vscode": {
     "languageId": "java"
    }
   },
   "outputs": [
    {
<<<<<<< HEAD
     "name": "stdout",
     "output_type": "stream",
     "text": [
      "Initial Information:\n",
      "REPL.$JShell$12C$Item@7da91256\n",
      "REPL.$JShell$12C$Item@736ef393\n",
      "\n",
      "Updated Information:\n",
      "REPL.$JShell$12C$Item@7da91256\n",
      "REPL.$JShell$12C$Item@736ef393\n"
     ]
    }
   ],
   "source": [
    "// initial output (before override)"
   ]
  },
  {
   "cell_type": "markdown",
   "id": "94352f2f",
   "metadata": {},
   "source": [
    "## Hack 3: Java Console Game "
   ]
  },
  {
   "cell_type": "markdown",
   "id": "2eef5e78",
   "metadata": {},
   "source": [
    "First attempt:"
   ]
  },
  {
   "cell_type": "code",
   "execution_count": 72,
   "id": "1f22390f",
   "metadata": {
    "vscode": {
     "languageId": "java"
    }
   },
   "outputs": [
    {
=======
>>>>>>> b43a62ce1444648b81fc0566943de6bb842fdac1
     "ename": "CompilationException",
     "evalue": "",
     "output_type": "error",
     "traceback": [
<<<<<<< HEAD
      "\u001b[1m\u001b[30m|   \u001b[1m\u001b[30m                } else \u001b[0m\u001b[1m\u001b[30m\u001b[41mif (cmove.equals(\"p\"));\u001b[0m\u001b[1m\u001b[30m {\u001b[0m",
      "\u001b[1m\u001b[31m'else' without 'if'\u001b[0m",
      "",
      "\u001b[1m\u001b[30m|   \u001b[1m\u001b[30m        else \u001b[0m\u001b[1m\u001b[30m\u001b[41mif (pmove.equals(\"p\"));\u001b[0m\u001b[1m\u001b[30m { \u001b[0m",
      "\u001b[1m\u001b[31m'else' without 'if'\u001b[0m",
      "",
      "\u001b[1m\u001b[30m|   \u001b[1m\u001b[30m                    } else \u001b[0m\u001b[1m\u001b[30m\u001b[41mif (cmove.equals(\"s\"));\u001b[0m\u001b[1m\u001b[30m {\u001b[0m",
      "\u001b[1m\u001b[31m'else' without 'if'\u001b[0m",
      "",
      "\u001b[1m\u001b[30m|   \u001b[1m\u001b[30m        else \u001b[0m\u001b[1m\u001b[30m\u001b[41mif (pmove.equals(\"s\"));\u001b[0m\u001b[1m\u001b[30m { \u001b[0m",
      "\u001b[1m\u001b[31m'else' without 'if'\u001b[0m",
      "",
      "\u001b[1m\u001b[30m|   \u001b[1m\u001b[30m                } else \u001b[0m\u001b[1m\u001b[30m\u001b[41mif (cmove.equals(\"r\"));\u001b[0m\u001b[1m\u001b[30m {\u001b[0m",
      "\u001b[1m\u001b[31m'else' without 'if'\u001b[0m",
=======
      "\u001b[1m\u001b[30m|   \u001b[1m\u001b[30m\u001b[0m\u001b[1m\u001b[30m\u001b[41mItem\u001b[0m\u001b[1m\u001b[30m()\u001b[0m",
      "\u001b[1m\u001b[31mcannot find symbol\u001b[0m",
      "\u001b[1m\u001b[31m  symbol:   method Item()\u001b[0m",
>>>>>>> b43a62ce1444648b81fc0566943de6bb842fdac1
      ""
     ]
    }
   ],
   "source": [
<<<<<<< HEAD
    "import java.util.Random; \n",
    "import java.util.Scanner; \n",
    "\n",
    "public class RockPaperScissors {\n",
    "\n",
    "    public static void main(String[] args) {\n",
    "        // User input r p or s \n",
    "        Scanner scanner = new Scanner(System.in); \n",
    "        System.out.println(\"Enter move (r, p, or s)\"); \n",
    "        String pmove = scanner.nextLine();\n",
    "        // * ideally add validation statement from trash inputs\n",
    "        // Computer randomization of r p or s from an array \n",
    "        String[] rps = {\"r\", \"p\", \"s\"}; //*Array, ArrayList */\n",
    "        String cmove = rps[new Random().nextInt(3)]; // outputs 0, 1, or 2 at random to select the index of r p or s from the list\n",
    "        // Compare the two \n",
    "        System.outprintln(\"Computer played: \", cmove);\n",
    "\n",
    "        if (pmove.equals(cmove)) { // simplify by three lines by adding the comparison statement for tie up here\n",
    "            System.out.printlin(\"Tie!\");\n",
    "        }  \n",
    "        else if (pmove.equals(\"r\")); { \n",
    "                if (cmove.equals(\"s\")); {\n",
    "                    System.out.printlin(\"You win!\");\n",
    "                } else if (cmove.equals(\"p\")); {\n",
    "                    System.out.printlin(\"You lose!\");\n",
    "                  }\n",
    "                }\n",
    "        else if (pmove.equals(\"p\")); { \n",
    "                    if (cmove.equals(\"r\")); {\n",
    "                        System.out.printlin(\"You win!\");\n",
    "                    } else if (cmove.equals(\"s\")); {\n",
    "                        System.out.printlin(\"You lose!\");\n",
    "                      }\n",
    "                    }  \n",
    "        else if (pmove.equals(\"s\")); { \n",
    "                if (cmove.equals(\"p\")); {\n",
    "                    System.out.printlin(\"You win!\");\n",
    "                } else if (cmove.equals(\"r\")); {\n",
    "                    System.out.printlin(\"You lose!\");\n",
    "                  }\n",
    "                }  \n",
    "            } \n",
    "        } \n"
   ]
  },
  {
   "cell_type": "markdown",
   "id": "b63106bd",
   "metadata": {},
   "source": [
    "Second attempt:"
   ]
  },
  {
   "cell_type": "code",
   "execution_count": 63,
   "id": "7e93c8a5",
   "metadata": {
    "vscode": {
     "languageId": "java"
    }
   },
   "outputs": [],
   "source": [
    "import java.util.Random;\n",
    "import java.util.Scanner;\n",
    "\n",
    "public class RockPaperScissors {\n",
    "  public static void main(String[] args) {  \n",
    "    Scanner scanner = new Scanner(System.in); // user input\n",
    "    \n",
    "  // COMPUTER CHOICE\n",
    "    // Computer randomly chooses r, p, s from array\n",
    "    while (true) {\n",
    "      String[] rps = {\"r\", \"p\", \"s\"}; //*Array, ArrayList */\n",
    "      String cmove = rps[new Random().nextInt(3)]; // random index: 0, 1, 2\n",
    "      String pmove; // initialize pmove\n",
    "    \n",
    "  // PLAYER CHOICE\n",
    "      while(true) {\n",
    "        System.out.println(\"Please enter your move (r, p, or s)\");\n",
    "        pmove = scanner.nextLine(); // scanner for next line in console\n",
    "        break;\n",
    "      }\n",
    "      \n",
    "      System.out.println(\"Computer played: \" + cmove);\n",
    "    \n",
    "// COMPARISON\n",
    "  // this line saves three lines compared to the original code by making the tie comparison first\n",
    "      if (pmove.equals(cmove)) {  \n",
    "        System.out.println(\"The game was a tie!\");\n",
    "      }\n",
    "      else if (pmove.equals(\"r\")) {\n",
    "        if (cmove.equals(\"p\")) {\n",
    "          System.out.println(\"You lose!\");\n",
    "          \n",
    "        } else if (cmove.equals(\"s\")) {\n",
    "          System.out.println(\"You win!\");\n",
    "        }\n",
    "      }\n",
    "      \n",
    "      else if (pmove.equals(\"p\")) {\n",
    "        if (cmove.equals(\"r\")) {\n",
    "          System.out.println(\"You win!\");\n",
    "          \n",
    "        } else if (cmove.equals(\"s\")) {\n",
    "          System.out.println(\"You lose!\");\n",
    "        }\n",
    "      }\n",
    "      \n",
    "      else if (pmove.equals(\"s\")) {\n",
    "        if (cmove.equals(\"p\")) {\n",
    "          System.out.println(\"You win!\");\n",
    "          \n",
    "        } else if (cmove.equals(\"r\")) {\n",
    "          System.out.println(\"You lose!\");\n",
    "        }\n",
    "      }\n",
    "    \n",
    "  }\n",
    "}\n",
    "}\n",
    "// ideally add an exit code : continue playing : y/n\n",
    ";"
   ]
  },
  {
   "cell_type": "markdown",
   "id": "8cec45ee",
   "metadata": {},
   "source": [
    "![image.png](/images/rps.png)"
   ]
  },
  {
   "cell_type": "code",
   "execution_count": 71,
   "id": "4d49c171",
   "metadata": {
    "vscode": {
     "languageId": "java"
    }
   },
   "outputs": [],
   "source": [
    "import java.util.Random;\n",
    "import java.util.Scanner;\n",
    "public class HigherorLower {\n",
    "public static void main(String[] args) { \n",
    "    System.out.println(\"Higher or Lower? (enter a number 1-8)\");\n",
    "    Scanner scHL = new Scanner(System.in);\n",
    "    int answer = (int) (Math.random() * 8) + 1; // random starts at 0\n",
    "    int guess = scHL.nextInt(); // user input\n",
    "    for(int i = 3; i > 0; i--){ // repetition of 3\n",
    "        if(guess == answer){\n",
    "            System.out.println(\"You win!\");\n",
    "            break;\n",
    "        }\n",
    "        else if(guess > answer){\n",
    "            System.out.println(\"The number is lower\");\n",
    "        }\n",
    "        else if(guess < answer){\n",
    "            System.out.println(\"The number is higher\");\n",
    "        }\n",
    "        guess = scHL.nextInt();\n",
    "    }\n",
    "    System.out.println(\"Game over. Answer was: \"+ answer);\n",
    "    scHL.close();\n",
    "}\n",
    "    }\n"
   ]
  },
  {
   "cell_type": "markdown",
   "id": "98253b73",
   "metadata": {},
   "source": [
    "I found the tic tac toe logic to be daunting for my first attempts at java so I am still working on this. I will keep this here for future reference. "
   ]
  },
  {
   "cell_type": "code",
   "execution_count": null,
   "id": "9ae110c0",
   "metadata": {
    "vscode": {
     "languageId": "java"
    }
   },
   "outputs": [],
   "source": [
    "public void ticTacToe(){\n",
    "    System.out.println(\"Tic Tac Toe\");\n",
    "    Scanner scTTT = new Scanner(System.in);\n",
    "    String[] board = {\"1\", \"2\", \"3\", \"4\", \"5\", \"6\", \"7\", \"8\", \"9\"}; // *Array*\n",
    "    String player = \"X\";\n",
    "    String player2 = \"O\";\n",
    "    int turn = 0;\n",
    "    Boolean quit = false;\n",
    "    System.out.println(\"Do you want to play against a friend or the computer?\");\n",
    "    System.out.println(\"Type 1 for friend, 2 for computer\");\n",
    "    int choice = scTTT.nextInt();\n",
    "    //make tic tac toe using player1 and player2\n",
    "    if(choice == 1){                \n",
    "        System.out.println(\"Type the number of the square you want to place your piece in\");\n",
    "        while(quit == false){\n",
    "            System.out.println(\"Player 1's turn (X)\");\n",
    "            System.out.println(board[0] + \" | \" + board[1] + \" | \" + board[2]);\n",
    "            System.out.println(board[3] + \" | \" + board[4] + \" | \" + board[5]);\n",
    "            System.out.println(board[6] + \" | \" + board[7] + \" | \" + board[8]);\n",
    "            int move = scTTT.nextInt();\n",
    "            if(board[move - 1].equals(\"X\") || board[move - 1].equals(\"O\")){\n",
    "                System.out.println(\"That square is already taken, try again\");\n",
    "            }\n",
    "            else{\n",
    "                board[move - 1] = player;\n",
    "                turn++;\n",
    "                if(board[0].equals(\"X\") && board[1].equals(\"X\") && board[2].equals(\"X\")){\n",
    "                    System.out.println(\"Player 1 wins!\");\n",
    "                    quit = true;\n",
    "                }\n",
    "                else if(board[3].equals(\"X\") && board[4].equals(\"X\") && board[5].equals(\"X\")){\n",
    "                    System.out.println(\"Player 1 wins!\");\n",
    "                    quit = true;\n",
    "                }\n",
    "                else if(board[6].equals(\"X\") && board[7].equals(\"X\") && board[8].equals(\"X\")){\n",
    "                    System.out.println(\"Player 1 wins!\");\n",
    "                    quit = true;\n",
    "                }\n",
    "                else if(board[0].equals(\"X\") && board[3].equals(\"X\") && board[6].equals(\"X\")){\n",
    "                    System.out.println(\"Player 1 wins!\");\n",
    "                    quit = true;\n",
    "                }\n",
    "                else if(board[1].equals(\"X\") && board[4].equals(\"X\") && board[7].equals(\"X\")){\n",
    "                    System.out.println(\"Player 1 wins!\");\n",
    "                    quit = true;\n",
    "                }\n",
    "                else if(board[2].equals(\"X\") && board[5].equals(\"X\") && board[8].equals(\"X\")){\n",
    "                    System.out.println(\"Player 1 wins!\");\n",
    "                    quit = true;\n",
    "                }\n",
    "                else if(board[0].equals(\"X\") && board[4].equals(\"X\") && board[8].equals(\"X\")){\n",
    "                    System.out.println(\"Player 1 wins!\");\n",
    "                    quit = true;\n",
    "                }\n",
    "                else if(board[2].equals(\"X\") && board[4].equals(\"X\") && board[6].equals(\"X\")){\n",
    "                    System.out.println(\"Player 1 wins!\");\n",
    "                    quit = true;\n",
    "                }\n",
    "                else if(turn == 9){\n",
    "                    System.out.println(\"It's a tie!\");\n",
    "                    quit = true;\n",
    "                }\n",
    "                else{\n",
    "                    System.out.println(\"Player 2's turn (O)\");\n",
    "                    System.out.println(board[0] + \" | \" + board[1] + \" | \" + board[2]);\n",
    "                    System.out.println(board[3] + \" | \" + board[4] + \" | \" + board[5]);\n",
    "                    System.out.println(board[6] + \" | \" + board[7] + \" | \" + board[8]);\n",
    "                    int move2 = scTTT.nextInt();\n",
    "                    if(board[move2 - 1].equals(\"X\") || board[move2 - 1].equals(\"O\")){\n",
    "                        System.out.println(\"That square is already taken, try again\");\n",
    "                    }\n",
    "                    else{\n",
    "                        board[move2 - 1] = player2;\n",
    "                        turn++;\n",
    "                        if(board[0].equals(\"O\") && board[1].equals(\"O\") && board[2].equals(\"O\")){\n",
    "                            System.out.println(\"Player 2 wins!\");\n",
    "                            quit = true;\n",
    "                        }\n",
    "                        else if(board[3].equals(\"O\") && board[4].equals(\"O\") && board[5].equals(\"O\")){\n",
    "                            System.out.println(\"Player 2 wins!\");\n",
    "                            quit = true;\n",
    "                        }\n",
    "                        else if(board[6].equals(\"O\") && board[7].equals(\"O\") && board[8].equals(\"O\")){\n",
    "                            System.out.println(\"Player 2 wins!\");\n",
    "                            quit = true;\n",
    "                        }\n",
    "                        else if(board[0].equals(\"O\") && board[3].equals(\"O\") && board[6].equals(\"O\")){\n",
    "                            System.out.println(\"Player 2 wins!\");\n",
    "                            quit = true;\n",
    "                        }\n",
    "                        else if(board[1].equals(\"O\") && board[4].equals(\"O\") && board[7].equals(\"O\")){\n",
    "                            System.out.println(\"Player 2 wins!\");\n",
    "                            quit = true;\n",
    "                        }\n",
    "                        else if(board[2].equals(\"O\") && board[5].equals(\"O\") && board[8].equals(\"O\")){\n",
    "                            System.out.println(\"Player 2 wins!\");\n",
    "                            quit = true;\n",
    "                        }\n",
    "                    }\n",
    "                }\n",
    "            }\n",
    "        }\n",
    "    }\n",
    "    if(choice == 2){\n",
    "        String computer = \"O\";\n",
    "        System.out.println(\"Type the number of the square you want to place your piece in\");\n",
    "        while(quit == false){\n",
    "            System.out.println(\"Player 1's turn (X)\");\n",
    "            System.out.println(board[0] + \" | \" + board[1] + \" | \" + board[2]);\n",
    "            System.out.println(board[3] + \" | \" + board[4] + \" | \" + board[5]);\n",
    "            System.out.println(board[6] + \" | \" + board[7] + \" | \" + board[8]);\n",
    "            int move = scTTT.nextInt();\n",
    "            if(board[move - 1].equals(\"X\") || board[move - 1].equals(\"O\")){\n",
    "                System.out.println(\"That square is already taken, try again\");\n",
    "            }\n",
    "            else{\n",
    "                board[move - 1] = player;\n",
    "                turn++;\n",
    "                if(board[0].equals(\"X\") && board[1].equals(\"X\") && board[2].equals(\"X\")){\n",
    "                    System.out.println(\"Player 1 wins!\");\n",
    "                    quit = true;\n",
    "                }\n",
    "                else if(board[3].equals(\"X\") && board[4].equals(\"X\") && board[5].equals(\"X\")){\n",
    "                    System.out.println(\"Player 1 wins!\");\n",
    "                    quit = true;\n",
    "                }\n",
    "                else if(board[6].equals(\"X\") && board[7].equals(\"X\") && board[8].equals(\"X\")){\n",
    "                    System.out.println(\"Player 1 wins!\");\n",
    "                    quit = true;\n",
    "                }\n",
    "                else if(board[0].equals(\"X\") && board[3].equals(\"X\") && board[6].equals(\"X\")){\n",
    "                    System.out.println(\"Player 1 wins!\");\n",
    "                    quit = true;\n",
    "                }\n",
    "                else if(board[1].equals(\"X\") && board[4].equals(\"X\") && board[7].equals(\"X\")){\n",
    "                    System.out.println(\"Player 1 wins!\");\n",
    "                    quit = true;\n",
    "                }\n",
    "                else if(board[2].equals(\"X\") && board[5].equals(\"X\") && board[8].equals(\"X\")){\n",
    "                    System.out.println(\"Player 1 wins!\");\n",
    "                    quit = true;\n",
    "                }\n",
    "                else if(board[0].equals(\"X\") && board[4].equals(\"X\") && board[8].equals(\"X\")){\n",
    "                    System.out.println(\"Player 1 wins!\");\n",
    "                    quit = true;\n",
    "                }\n",
    "                else if(board[2].equals(\"X\") && board[4].equals(\"X\") && board[6].equals(\"X\")){\n",
    "                    System.out.println(\"Player 1 wins!\");\n",
    "                    quit = true;\n",
    "                }\n",
    "                else if(turn == 9){\n",
    "                    System.out.println(\"It's a tie!\");\n",
    "                    quit = true;\n",
    "                }\n",
    "                else{\n",
    "                    System.out.println(\"Computer's turn (O)\");\n",
    "                    System.out.println(board[0] + \" | \" + board[1] + \" | \" + board[2]);\n",
    "                    System.out.println(board[3] + \" | \" + board[4] + \" | \" + board[5]);\n",
    "                    System.out.println(board[6] + \" | \" + board[7] + \" | \" + board[8]);\n",
    "                    int move2 = (int)(Math.random() * 9) + 1;\n",
    "                    if(board[move2 - 1].equals(\"X\") || board[move2 - 1].equals(\"O\")){\n",
    "                        System.out.println(\"That square is already taken, try again\");\n",
    "                    }\n",
    "                    else{\n",
    "                        board[move2 - 1] = computer;\n",
    "                        turn++;\n",
    "                        if(board[0].equals(\"O\") && board[1].equals(\"O\") && board[2].equals(\"O\")){\n",
    "                            System.out.println(\"Computer wins!\");\n",
    "                            quit = true;\n",
    "                        }\n",
    "                        else if(board[3].equals(\"O\") && board[4].equals(\"O\") && board[5].equals(\"O\")){\n",
    "                            System.out.println(\"Computer wins!\");\n",
    "                            quit = true;\n",
    "                        }\n",
    "                        else if(board[6].equals(\"O\") && board[7].equals(\"O\") && board[8].equals(\"O\")){\n",
    "                            System.out.println(\"Computer wins!\");\n",
    "                            quit = true;\n",
    "                        }\n",
    "                        else if(board[0].equals(\"O\") && board[3].equals(\"O\") && board[6].equals(\"O\")){\n",
    "                            System.out.println(\"Computer wins!\");\n",
    "                            quit = true;\n",
    "                        }\n",
    "                        else if(board[1].equals(\"O\") && board[4].equals(\"O\") && board[7].equals(\"O\")){\n",
    "                            System.out.println(\"Computer wins!\");\n",
    "                            quit = true;\n",
    "                        }\n",
    "                        else if(board[2].equals(\"O\") && board[5].equals(\"O\") && board[8].equals(\"O\")){\n",
    "                            System.out.println(\"Computer wins!\");\n",
    "                            quit = true;\n",
    "                        }\n",
    "                    }\n",
    "                }\n",
    "            }\n",
    "        }\n",
    "      \n",
    "}\n",
    "    scTTT.close();\n",
    "}"
=======
    "Item()"
>>>>>>> b43a62ce1444648b81fc0566943de6bb842fdac1
   ]
  }
 ],
 "metadata": {
  "kernelspec": {
   "display_name": "Java",
   "language": "java",
   "name": "java"
  },
  "language_info": {
   "codemirror_mode": "java",
   "file_extension": ".jshell",
   "mimetype": "text/x-java-source",
   "name": "Java",
   "pygments_lexer": "java",
   "version": "20.0.2+9-78"
  }
 },
 "nbformat": 4,
 "nbformat_minor": 5
}
