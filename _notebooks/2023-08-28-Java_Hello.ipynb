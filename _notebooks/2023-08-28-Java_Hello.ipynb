{
 "cells": [
  {
   "cell_type": "markdown",
   "id": "2c137d37",
   "metadata": {},
   "source": [
    "---\n",
    "comments: true\n",
    "layout: post\n",
    "title: Java Hello\n",
    "description: First attempts at Java, using\n",
    "type: hacks\n",
    "---"
   ]
  },
  {
   "cell_type": "code",
   "execution_count": 1,
   "id": "b4ed4e42-c211-43d8-a073-bcea14c50fac",
   "metadata": {
    "vscode": {
     "languageId": "java"
    }
   },
   "outputs": [
    {
     "name": "stdout",
     "output_type": "stream",
     "text": [
      "Hello World!\n"
     ]
    }
   ],
   "source": [
    "// Define Static Method within a Class\n",
    "public class HelloStatic {\n",
    "    // Java standard runtime entry point\n",
    "    public static void main(String[] args) {    \n",
    "        System.out.println(\"Hello World!\");\n",
    "    }\n",
    "}\n",
    "// A method call allows us to execute code that is wrapped in Class\n",
    "HelloStatic.main(null);   // Class prefix allows reference of Static Method"
   ]
  },
  {
   "cell_type": "markdown",
   "id": "99b1c7cd",
   "metadata": {},
   "source": [
    "![Anatomy of a Class](/images/class.png)\n"
   ]
  },
  {
   "cell_type": "code",
   "execution_count": 19,
   "id": "219e6e1c",
   "metadata": {
    "vscode": {
     "languageId": "java"
    }
   },
   "outputs": [],
   "source": [
    "// Defining class Item\n",
    "public static class Item {\n",
    "    // instance variables\n",
    "    private String name; \n",
    "    private double price; // double is for floats\n",
    "    // constructor (allows to set initial values), 2 arguements\n",
    "    public Item(String name, double price) {\n",
    "        this.name = name; \n",
    "        this.price = price;\n",
    "    }\n",
    "\n",
    "    // get\n",
    "    public String getName() {\n",
    "        return name; \n",
    "    }\n",
    "\n",
    "    public double getPrice() {\n",
    "        return price; \n",
    "    }\n",
    "\n",
    "    // set\n",
    "    public void setPrice(double price) {\n",
    "        this.price = price; \n",
    "    }\n",
    "    public static void main(String[] args) {\n",
    "        // called to display information about an item in a user friendly format \n",
    "        \n",
    "    }\n",
    "}\n",
    "\n",
    "public class Inventory {\n",
    "    public static void main(String[] args) {\n",
    "        Item item1 = new Item(\"Laptop\", 1238.92); \n",
    "        Item item2 = new Item(\"Iphone\", 938.92); \n",
    "   \n",
    "        System.out.println(\"Initial Information:\");\n",
    "        System.out.println(item1);\n",
    "        System.out.println(item2);\n",
    "\n",
    "        item1.setPrice(899.99);\n",
    "        item2.setPrice(599.99);\n",
    "\n",
    "        \n",
    "        System.out.println(\"\\nUpdated Information:\");\n",
    "        System.out.println(item1);\n",
    "        System.out.println(item2);\n",
    "    } \n",
    "}"
   ]
  },
  {
   "cell_type": "code",
   "execution_count": 22,
   "id": "0b5ccb8c",
   "metadata": {
    "vscode": {
     "languageId": "java"
    }
   },
   "outputs": [
    {
     "ename": "CompilationException",
     "evalue": "",
     "output_type": "error",
     "traceback": [
      "\u001b[1m\u001b[30m|   \u001b[1m\u001b[30m\u001b[0m\u001b[1m\u001b[30m\u001b[41mItem\u001b[0m\u001b[1m\u001b[30m()\u001b[0m",
      "\u001b[1m\u001b[31mcannot find symbol\u001b[0m",
      "\u001b[1m\u001b[31m  symbol:   method Item()\u001b[0m",
      ""
     ]
    }
   ],
   "source": [
    "Item()"
   ]
  }
 ],
 "metadata": {
  "kernelspec": {
   "display_name": "Java",
   "language": "java",
   "name": "java"
  },
  "language_info": {
   "codemirror_mode": "java",
   "file_extension": ".jshell",
   "mimetype": "text/x-java-source",
   "name": "Java",
   "pygments_lexer": "java",
   "version": "20.0.2+9-78"
  }
 },
 "nbformat": 4,
 "nbformat_minor": 5
}
